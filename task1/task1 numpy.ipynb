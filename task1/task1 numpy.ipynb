{
 "cells": [
  {
   "cell_type": "markdown",
   "source": [
    "除了batch和mini-batch外的对比实验都在基于sklearn的实现中完成了\n",
    "这边不再重复实验，只注重于通过numpy的手写实现"
   ],
   "metadata": {
    "collapsed": false,
    "pycharm": {
     "name": "#%% md\n"
    }
   }
  },
  {
   "cell_type": "code",
   "execution_count": 1,
   "metadata": {
    "collapsed": true
   },
   "outputs": [],
   "source": [
    "import numpy as np\n",
    "import pandas as pd\n",
    "import matplotlib.pyplot as plt\n",
    "import seaborn as sns\n",
    "import re\n",
    "import nltk\n",
    "from nltk.corpus import stopwords\n",
    "from nltk.stem import WordNetLemmatizer\n",
    "from sklearn.model_selection import train_test_split\n",
    "import random"
   ]
  },
  {
   "cell_type": "code",
   "execution_count": 2,
   "outputs": [],
   "source": [
    "df_train = pd.read_csv('dataset/train.tsv', sep='\\t')\n",
    "df_test = pd.read_csv('dataset/test.tsv', sep='\\t')"
   ],
   "metadata": {
    "collapsed": false,
    "pycharm": {
     "name": "#%%\n"
    }
   }
  },
  {
   "cell_type": "code",
   "execution_count": 3,
   "outputs": [],
   "source": [
    "df_train = df_train.head(1000)"
   ],
   "metadata": {
    "collapsed": false,
    "pycharm": {
     "name": "#%%\n"
    }
   }
  },
  {
   "cell_type": "code",
   "execution_count": 4,
   "outputs": [],
   "source": [
    "# nltk.download('wordnet')\n",
    "# nltk.download('omw-1.4')"
   ],
   "metadata": {
    "collapsed": false,
    "pycharm": {
     "name": "#%%\n"
    }
   }
  },
  {
   "cell_type": "code",
   "execution_count": 5,
   "outputs": [],
   "source": [
    "stop_words = stopwords.words('english')\n",
    "lemmatizer = WordNetLemmatizer()\n",
    "\n",
    "\n",
    "def preprocess_sentence(df):\n",
    "    for i in range(len(df)):\n",
    "        sentence = re.sub(r'[^\\w\\s]', '', df['Phrase'][i].lower())  #删除单词字符(a-zA-Z0-9_)和空白符外的所有字符\n",
    "        words = nltk.word_tokenize(sentence)\n",
    "        words_clean = [word for word in words if not word in stop_words and len(word) > 3]  #删除停用词(包括长度<=2的)\n",
    "        sentence_clean = ''\n",
    "        for word in words_clean:\n",
    "            sentence_clean += str(lemmatizer.lemmatize(word)) + ' '  #词形还原\n",
    "        yield sentence_clean"
   ],
   "metadata": {
    "collapsed": false,
    "pycharm": {
     "name": "#%%\n"
    }
   }
  },
  {
   "cell_type": "code",
   "execution_count": 6,
   "outputs": [],
   "source": [
    "df_train['phrase_clean'] = list(preprocess_sentence(df_train))\n",
    "df_test['phrase_clean'] = list(preprocess_sentence(df_test))"
   ],
   "metadata": {
    "collapsed": false,
    "pycharm": {
     "name": "#%%\n"
    }
   }
  },
  {
   "cell_type": "code",
   "execution_count": 7,
   "outputs": [
    {
     "data": {
      "text/plain": "((1000,), (1000,), (66292,))"
     },
     "execution_count": 7,
     "metadata": {},
     "output_type": "execute_result"
    }
   ],
   "source": [
    "X_train_text = df_train['phrase_clean'].values\n",
    "y_train = df_train['Sentiment'].values\n",
    "X_test_text = df_test['phrase_clean'].values\n",
    "X_train_text.shape, y_train.shape, X_test_text.shape"
   ],
   "metadata": {
    "collapsed": false,
    "pycharm": {
     "name": "#%%\n"
    }
   }
  },
  {
   "cell_type": "code",
   "execution_count": 8,
   "outputs": [],
   "source": [
    "class BagofWords:\n",
    "    def __init__(self):\n",
    "        self.word2idx = {}\n",
    "        self.vocab_size = 0\n",
    "\n",
    "    def fit(self, sent_list):\n",
    "        for sent in sent_list:\n",
    "            words = sent.strip().split(' ')\n",
    "            for word in words:\n",
    "                if word not in self.word2idx:\n",
    "                    self.word2idx[word] = len(self.word2idx)\n",
    "        self.vocab_size = len(self.word2idx)\n",
    "\n",
    "    def transform(self, sent_list):\n",
    "        features = np.zeros((len(sent_list), self.vocab_size))\n",
    "        for idx, sent in enumerate(sent_list):\n",
    "            words = sent.strip().split(' ')\n",
    "            for word in words:\n",
    "                features[idx][self.word2idx[word]] += 1\n",
    "        return features"
   ],
   "metadata": {
    "collapsed": false,
    "pycharm": {
     "name": "#%%\n"
    }
   }
  },
  {
   "cell_type": "code",
   "execution_count": 9,
   "outputs": [],
   "source": [
    "class Ngram:\n",
    "    def __init__(self, ngram):\n",
    "        self.ngram = ngram\n",
    "        self.gram2idx = {}\n",
    "        self.ngram_size = 0\n",
    "\n",
    "    def fit(self, sent_list):\n",
    "        for num in self.ngram:\n",
    "            for sent in sent_list:\n",
    "                sent = sent.split(' ')\n",
    "                for i in range(len(sent) - num + 1):\n",
    "                    gram = ' '.join(sent[i:i + num])\n",
    "                    if gram not in self.gram2idx:\n",
    "                        self.gram2idx[gram] = len(self.gram2idx)\n",
    "        self.ngram_size = len(self.gram2idx)\n",
    "\n",
    "    def transform(self, sent_list):\n",
    "        features = np.zeros((len(sent_list), self.ngram_size))\n",
    "        for idx, sent in enumerate(sent_list):\n",
    "            sent = sent.split(' ')\n",
    "            for num in self.ngram:\n",
    "                for i in range(len(sent) - num + 1):\n",
    "                    gram = ' '.join(sent[i:i + num])\n",
    "                    if gram in self.gram2idx:\n",
    "                        features[idx][self.gram2idx[gram]] += 1\n",
    "        return features"
   ],
   "metadata": {
    "collapsed": false,
    "pycharm": {
     "name": "#%%\n"
    }
   }
  },
  {
   "cell_type": "code",
   "execution_count": 10,
   "outputs": [],
   "source": [
    "ngram = Ngram(ngram=(3, 3))\n",
    "ngram.fit(X_train_text)\n",
    "X_train = ngram.transform(X_train_text)\n",
    "y_train = y_train.reshape(-1, 1)\n",
    "X_train, X_val, y_train, y_val = train_test_split(X_train, y_train, test_size=0.2, random_state=42)"
   ],
   "metadata": {
    "collapsed": false,
    "pycharm": {
     "name": "#%%\n"
    }
   }
  },
  {
   "cell_type": "code",
   "execution_count": 11,
   "outputs": [],
   "source": [
    "def sigmoid(z):\n",
    "    return 1 / (1 + np.exp(-z))\n",
    "\n",
    "\n",
    "def softmax(z):\n",
    "    z = np.exp(z)\n",
    "    z /= np.sum(z, axis=1, keepdims=True)\n",
    "    return z\n",
    "\n",
    "\n",
    "class SoftmaxRegression():\n",
    "    def __init__(self, epochs=100, learning_rate=0.01, num_classes=5, batch_size=None):\n",
    "        self.epochs = epochs\n",
    "        self.learning_rate = learning_rate\n",
    "        self.batch_size = batch_size\n",
    "        self.num_features = None\n",
    "        self.num_classes = num_classes\n",
    "        self.W = None\n",
    "\n",
    "    def fit(self, X, y, epochs=100, learning_rate=0.01, num_classes=5, batch_size=None):\n",
    "        '''\n",
    "\n",
    "        :param X: (batch_size, num_features)\n",
    "        :param y: (batch_size, 1)\n",
    "        :param W: (num_classes, num_features)\n",
    "        :return loss_history: (iters, )\n",
    "\n",
    "        '''\n",
    "        self.__init__(epochs, learning_rate, num_classes, batch_size)\n",
    "        if self.batch_size is None:\n",
    "            self.batch_size, self.num_features = X.shape\n",
    "        else:\n",
    "            _, self.num_features = X.shape\n",
    "        self.W = np.random.randn(self.num_classes, self.num_features)\n",
    "        batch_pos = [i for i in range(0, X.shape[0], self.batch_size)]\n",
    "        batch_num = len(batch_pos)\n",
    "        batch_pos.append(X.shape[0])\n",
    "\n",
    "        y_onehot = np.zeros((X.shape[0], self.num_classes))\n",
    "        for i in range(X.shape[0]):\n",
    "            y_onehot[i][y[i]] = 1\n",
    "\n",
    "        loss_history = []\n",
    "        for epoch in range(epochs):\n",
    "            for t in range(batch_num):\n",
    "                loss = 0\n",
    "                X_t = X[batch_pos[t]:batch_pos[t + 1]]\n",
    "                y_t = y[batch_pos[t]:batch_pos[t + 1]]\n",
    "                y_t_onehot = y_onehot[batch_pos[t]:batch_pos[t + 1]]\n",
    "                batch_size = batch_pos[t + 1] - batch_pos[t]\n",
    "                probs = softmax(X_t @ self.W.T)\n",
    "                for i in range(batch_size):\n",
    "                    loss -= np.log(probs[i][y_t[i]])\n",
    "                grad = np.zeros_like(self.W)\n",
    "                for i in range(batch_size):\n",
    "                    grad += (y_t_onehot[i] - probs[i]).reshape(1, self.num_classes).T @ X_t[i].reshape(1,\n",
    "                                                                                                       self.num_features)\n",
    "                self.W += grad * self.learning_rate / batch_size\n",
    "                loss /= batch_size\n",
    "                loss_history.append(loss)\n",
    "\n",
    "        return loss_history\n",
    "\n",
    "    def predict(self, X):\n",
    "        probs = softmax(X @ self.W.T)\n",
    "        return probs.argmax(axis=1)\n",
    "\n",
    "    def score_acc(self, X, y):\n",
    "        pred = self.predict(X)\n",
    "        return np.sum(pred.reshape(y.shape) == y) / y.shape[0]"
   ],
   "metadata": {
    "collapsed": false,
    "pycharm": {
     "name": "#%%\n"
    }
   }
  },
  {
   "cell_type": "markdown",
   "source": [
    "### batch与mini-batch对比实验"
   ],
   "metadata": {
    "collapsed": false,
    "pycharm": {
     "name": "#%% md\n"
    }
   }
  },
  {
   "cell_type": "code",
   "execution_count": 12,
   "outputs": [
    {
     "data": {
      "text/plain": "0.125"
     },
     "execution_count": 12,
     "metadata": {},
     "output_type": "execute_result"
    }
   ],
   "source": [
    "epochs = 1000\n",
    "seed = 42\n",
    "random.seed(seed)\n",
    "np.random.seed(seed)\n",
    "model = SoftmaxRegression()\n",
    "loss_history = model.fit(X_train, y_train, epochs=epochs)\n",
    "model.score_acc(X_val, y_val)"
   ],
   "metadata": {
    "collapsed": false,
    "pycharm": {
     "name": "#%%\n"
    }
   }
  },
  {
   "cell_type": "code",
   "execution_count": 13,
   "outputs": [
    {
     "data": {
      "text/plain": "<Figure size 400x300 with 1 Axes>",
      "image/png": "[encoded data removed]"
     },
     "metadata": {},
     "output_type": "display_data"
    }
   ],
   "source": [
    "loss_history=np.array(loss_history)\n",
    "plt.figure(figsize=(4, 3))\n",
    "ax=sns.lineplot(data=loss_history)\n",
    "ax.set_xlabel(\"iters\")\n",
    "ax.set_ylabel(\"loss\")\n",
    "plt.show()"
   ],
   "metadata": {
    "collapsed": false,
    "pycharm": {
     "name": "#%%\n"
    }
   }
  },
  {
   "cell_type": "code",
   "execution_count": 14,
   "outputs": [
    {
     "data": {
      "text/plain": "0.24"
     },
     "execution_count": 14,
     "metadata": {},
     "output_type": "execute_result"
    }
   ],
   "source": [
    "batch_size = 32\n",
    "random.seed(seed)\n",
    "np.random.seed(seed)\n",
    "model = SoftmaxRegression()\n",
    "loss_history = model.fit(X_train, y_train, epochs=epochs, batch_size=batch_size)\n",
    "model.score_acc(X_val, y_val)"
   ],
   "metadata": {
    "collapsed": false,
    "pycharm": {
     "name": "#%%\n"
    }
   }
  },
  {
   "cell_type": "code",
   "execution_count": 15,
   "outputs": [
    {
     "data": {
      "text/plain": "<Figure size 400x300 with 1 Axes>",
      "image/png": "[encoded data removed]"
     },
     "metadata": {},
     "output_type": "display_data"
    }
   ],
   "source": [
    "loss_history=np.array(loss_history)\n",
    "plt.figure(figsize=(4, 3))\n",
    "ax=sns.lineplot(data=loss_history)\n",
    "ax.set_xlabel(\"iters\")\n",
    "ax.set_ylabel(\"loss\")\n",
    "plt.show()"
   ],
   "metadata": {
    "collapsed": false,
    "pycharm": {
     "name": "#%%\n"
    }
   }
  },
  {
   "cell_type": "markdown",
   "source": [
    "这mini-batch的图由于抖的太厉害，画的iter太多太密了，所以看起来像一坨面积......就这样吧.."
   ],
   "metadata": {
    "collapsed": false,
    "pycharm": {
     "name": "#%% md\n"
    }
   }
  },
  {
   "cell_type": "markdown",
   "source": [
    "结论：一次梯度下降未必需要那么多样本，这就是mini-batch的意义。同样的iter下batch肯定更好，同样的epochs下，mini-batch的iter就很多了，因此一般会更好，但是缺点是在最优点附近振荡"
   ],
   "metadata": {
    "collapsed": false,
    "pycharm": {
     "name": "#%% md\n"
    }
   }
  }
 ],
 "metadata": {
  "kernelspec": {
   "display_name": "Python 3",
   "language": "python",
   "name": "python3"
  },
  "language_info": {
   "codemirror_mode": {
    "name": "ipython",
    "version": 2
   },
   "file_extension": ".py",
   "mimetype": "text/x-python",
   "name": "python",
   "nbconvert_exporter": "python",
   "pygments_lexer": "ipython2",
   "version": "2.7.6"
  }
 },
 "nbformat": 4,
 "nbformat_minor": 0
}